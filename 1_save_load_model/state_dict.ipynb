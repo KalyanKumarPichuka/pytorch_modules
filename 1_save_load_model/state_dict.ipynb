{
 "cells": [
  {
   "cell_type": "markdown",
   "metadata": {},
   "source": [
    "## State_Dict in PyTorch"
   ]
  },
  {
   "cell_type": "markdown",
   "metadata": {},
   "source": [
    "A **state_dict** is an important aspect that needs to be kept in mind while saving and loading models in PyTorch. Basically state_dict objects are dictionaries. Hence they can easily saved, edited and restored. Only learnable parameters like Convolution layer, Linear layers and registered buffers like batchnorm's running mean have entries in saved state_dict. Even optimizers objects has entries in state_dict which contains info about optimizer's state and hyperparameters."
   ]
  },
  {
   "cell_type": "markdown",
   "metadata": {},
   "source": [
    "### Lets load libraries of PyTorch"
   ]
  },
  {
   "cell_type": "code",
   "execution_count": 1,
   "metadata": {},
   "outputs": [],
   "source": [
    "import torch\n",
    "import torch.nn as nn\n",
    "import torch.optim as optim"
   ]
  },
  {
   "cell_type": "markdown",
   "metadata": {},
   "source": [
    "### Create a simple neural network with convolution and linear layers"
   ]
  },
  {
   "cell_type": "code",
   "execution_count": 2,
   "metadata": {},
   "outputs": [],
   "source": [
    "class Net(nn.Module):\n",
    "    def __init__(self):\n",
    "        super(Net, self).__init__()\n",
    "        self.conv1 = nn.Conv2d(3,6,5)\n",
    "        self.pool = nn.MaxPool2d(2,2)\n",
    "        self.conv2 = nn.Conv2d(6,16,5)\n",
    "        self.fc1 = nn.Linear(16*5*5,128)\n",
    "        self.fc2 = nn.Linear(128, 64)\n",
    "        self.fc3 = nn.Linear(64, 10)\n",
    "\n",
    "    def forward(self, x):\n",
    "        x = self.pool(F.relu(self.conv1(x)))\n",
    "        x = self.pool(F.relu(self.conv2(x)))\n",
    "        x = x.view(-1,16*5*5)\n",
    "        x = F.relu(self.fc1(x))\n",
    "        x = F.relu(self.fc2(x))\n",
    "        x = self.fc3(x)\n",
    "        return x"
   ]
  },
  {
   "cell_type": "code",
   "execution_count": 4,
   "metadata": {},
   "outputs": [
    {
     "name": "stdout",
     "output_type": "stream",
     "text": [
      "Net(\n",
      "  (conv1): Conv2d(3, 6, kernel_size=(5, 5), stride=(1, 1))\n",
      "  (pool): MaxPool2d(kernel_size=2, stride=2, padding=0, dilation=1, ceil_mode=False)\n",
      "  (conv2): Conv2d(6, 16, kernel_size=(5, 5), stride=(1, 1))\n",
      "  (fc1): Linear(in_features=400, out_features=128, bias=True)\n",
      "  (fc2): Linear(in_features=128, out_features=64, bias=True)\n",
      "  (fc3): Linear(in_features=64, out_features=10, bias=True)\n",
      ")\n"
     ]
    }
   ],
   "source": [
    "net = Net()\n",
    "print(net)"
   ]
  },
  {
   "cell_type": "markdown",
   "metadata": {},
   "source": [
    "### Initialize the optimizer\n",
    "Lets us SGD with momentum"
   ]
  },
  {
   "cell_type": "code",
   "execution_count": 5,
   "metadata": {},
   "outputs": [],
   "source": [
    "optimizer = optim.SGD(net.parameters(), lr=0.001, momentum=0.9)"
   ]
  },
  {
   "cell_type": "markdown",
   "metadata": {},
   "source": [
    "### Model and Optimizer stat_dict\n",
    "Lets look at the state_dict properties of model and optimizer"
   ]
  },
  {
   "cell_type": "code",
   "execution_count": 8,
   "metadata": {},
   "outputs": [
    {
     "name": "stdout",
     "output_type": "stream",
     "text": [
      "Model's state_dic: \n",
      "conv1.weight  ==>  torch.Size([6, 3, 5, 5])\n",
      "conv1.bias  ==>  torch.Size([6])\n",
      "conv2.weight  ==>  torch.Size([16, 6, 5, 5])\n",
      "conv2.bias  ==>  torch.Size([16])\n",
      "fc1.weight  ==>  torch.Size([128, 400])\n",
      "fc1.bias  ==>  torch.Size([128])\n",
      "fc2.weight  ==>  torch.Size([64, 128])\n",
      "fc2.bias  ==>  torch.Size([64])\n",
      "fc3.weight  ==>  torch.Size([10, 64])\n",
      "fc3.bias  ==>  torch.Size([10])\n"
     ]
    }
   ],
   "source": [
    "#output for model state_dic\n",
    "print(\"Model's state_dic: \")\n",
    "for param_tensor in net.state_dict():\n",
    "    print(param_tensor, ' ==> ', net.state_dict()[param_tensor].size())"
   ]
  },
  {
   "cell_type": "code",
   "execution_count": 9,
   "metadata": {},
   "outputs": [
    {
     "name": "stdout",
     "output_type": "stream",
     "text": [
      "Optimizer's state_dic: \n",
      "state  ==>  {}\n",
      "param_groups  ==>  [{'lr': 0.001, 'momentum': 0.9, 'dampening': 0, 'weight_decay': 0, 'nesterov': False, 'params': [140483105481664, 140483103054336, 140483103054720, 140483103060032, 140483103062464, 140483103062784, 140483189793216, 140483103061248, 140483103062208, 140485032015872]}]\n"
     ]
    }
   ],
   "source": [
    "#output optimizer's state_dic\n",
    "print(\"Optimizer's state_dic: \")\n",
    "for var_name in optimizer.state_dict():\n",
    "    print(var_name, ' ==> ', optimizer.state_dict()[var_name])    "
   ]
  },
  {
   "cell_type": "code",
   "execution_count": null,
   "metadata": {},
   "outputs": [],
   "source": []
  }
 ],
 "metadata": {
  "kernelspec": {
   "display_name": "Python 3",
   "language": "python",
   "name": "python3"
  },
  "language_info": {
   "codemirror_mode": {
    "name": "ipython",
    "version": 3
   },
   "file_extension": ".py",
   "mimetype": "text/x-python",
   "name": "python",
   "nbconvert_exporter": "python",
   "pygments_lexer": "ipython3",
   "version": "3.8.2"
  }
 },
 "nbformat": 4,
 "nbformat_minor": 4
}
